{
  "nbformat": 4,
  "nbformat_minor": 0,
  "metadata": {
    "colab": {
      "name": "Experiment-2-CIFAR10-Shallow-Neural-Network",
      "version": "0.3.2",
      "provenance": [],
      "include_colab_link": true
    },
    "kernelspec": {
      "name": "python3",
      "display_name": "Python 3"
    }
  },
  "cells": [
    {
      "cell_type": "markdown",
      "metadata": {
        "id": "view-in-github",
        "colab_type": "text"
      },
      "source": [
        "<a href=\"https://colab.research.google.com/github/patrickphatnguyen/CIFAR10-Image-Recognition/blob/master/Experiment_2_CIFAR10_Shallow_Neural_Network.ipynb\" target=\"_parent\"><img src=\"https://colab.research.google.com/assets/colab-badge.svg\" alt=\"Open In Colab\"/></a>"
      ]
    },
    {
      "cell_type": "code",
      "metadata": {
        "id": "LpD2aK8Ov9-G",
        "colab_type": "code",
        "colab": {
          "base_uri": "https://localhost:8080/",
          "height": 34
        },
        "outputId": "214d5a00-c952-49f4-db44-f7ffc318ed08"
      },
      "source": [
        "import tensorflow as tf\n",
        "import numpy as np\n",
        "tf.__version__"
      ],
      "execution_count": 1,
      "outputs": [
        {
          "output_type": "execute_result",
          "data": {
            "text/plain": [
              "'1.13.1'"
            ]
          },
          "metadata": {
            "tags": []
          },
          "execution_count": 1
        }
      ]
    },
    {
      "cell_type": "code",
      "metadata": {
        "id": "aO7O_REawuB7",
        "colab_type": "code",
        "colab": {
          "base_uri": "https://localhost:8080/",
          "height": 663
        },
        "outputId": "b6ca99a3-5bdf-4f23-e09c-027eaa5c3658"
      },
      "source": [
        "!pip uninstall tensorflow\n",
        "!pip uninstall tensorflow-gpu\n",
        "!pip install tensorflow-gpu==2.0.0-alpha0"
      ],
      "execution_count": 3,
      "outputs": [
        {
          "output_type": "stream",
          "text": [
            "\u001b[33mWARNING: Skipping tensorflow as it is not installed.\u001b[0m\n",
            "\u001b[33mWARNING: Skipping tensorflow-gpu as it is not installed.\u001b[0m\n",
            "Collecting tensorflow-gpu==2.0.0-alpha0\n",
            "\u001b[?25l  Downloading https://files.pythonhosted.org/packages/1a/66/32cffad095253219d53f6b6c2a436637bbe45ac4e7be0244557210dc3918/tensorflow_gpu-2.0.0a0-cp36-cp36m-manylinux1_x86_64.whl (332.1MB)\n",
            "\u001b[K     |████████████████████████████████| 332.1MB 50kB/s \n",
            "\u001b[?25hRequirement already satisfied: absl-py>=0.7.0 in /usr/local/lib/python3.6/dist-packages (from tensorflow-gpu==2.0.0-alpha0) (0.7.1)\n",
            "Requirement already satisfied: grpcio>=1.8.6 in /usr/local/lib/python3.6/dist-packages (from tensorflow-gpu==2.0.0-alpha0) (1.15.0)\n",
            "Requirement already satisfied: gast>=0.2.0 in /usr/local/lib/python3.6/dist-packages (from tensorflow-gpu==2.0.0-alpha0) (0.2.2)\n",
            "Requirement already satisfied: numpy<2.0,>=1.14.5 in /usr/local/lib/python3.6/dist-packages (from tensorflow-gpu==2.0.0-alpha0) (1.16.3)\n",
            "Collecting tf-estimator-nightly<1.14.0.dev2019030116,>=1.14.0.dev2019030115 (from tensorflow-gpu==2.0.0-alpha0)\n",
            "\u001b[?25l  Downloading https://files.pythonhosted.org/packages/13/82/f16063b4eed210dc2ab057930ac1da4fbe1e91b7b051a6c8370b401e6ae7/tf_estimator_nightly-1.14.0.dev2019030115-py2.py3-none-any.whl (411kB)\n",
            "\u001b[K     |████████████████████████████████| 419kB 40.5MB/s \n",
            "\u001b[?25hRequirement already satisfied: keras-applications>=1.0.6 in /usr/local/lib/python3.6/dist-packages (from tensorflow-gpu==2.0.0-alpha0) (1.0.7)\n",
            "Collecting tb-nightly<1.14.0a20190302,>=1.14.0a20190301 (from tensorflow-gpu==2.0.0-alpha0)\n",
            "\u001b[?25l  Downloading https://files.pythonhosted.org/packages/a9/51/aa1d756644bf4624c03844115e4ac4058eff77acd786b26315f051a4b195/tb_nightly-1.14.0a20190301-py3-none-any.whl (3.0MB)\n",
            "\u001b[K     |████████████████████████████████| 3.0MB 31.6MB/s \n",
            "\u001b[?25hRequirement already satisfied: protobuf>=3.6.1 in /usr/local/lib/python3.6/dist-packages (from tensorflow-gpu==2.0.0-alpha0) (3.7.1)\n",
            "Collecting google-pasta>=0.1.2 (from tensorflow-gpu==2.0.0-alpha0)\n",
            "\u001b[?25l  Downloading https://files.pythonhosted.org/packages/f9/68/a14620bfb042691f532dcde8576ff82ee82e4c003cdc0a3dbee5f289cee6/google_pasta-0.1.6-py3-none-any.whl (51kB)\n",
            "\u001b[K     |████████████████████████████████| 61kB 21.2MB/s \n",
            "\u001b[?25hRequirement already satisfied: six>=1.10.0 in /usr/local/lib/python3.6/dist-packages (from tensorflow-gpu==2.0.0-alpha0) (1.12.0)\n",
            "Requirement already satisfied: wheel>=0.26 in /usr/local/lib/python3.6/dist-packages (from tensorflow-gpu==2.0.0-alpha0) (0.33.4)\n",
            "Requirement already satisfied: keras-preprocessing>=1.0.5 in /usr/local/lib/python3.6/dist-packages (from tensorflow-gpu==2.0.0-alpha0) (1.0.9)\n",
            "Requirement already satisfied: termcolor>=1.1.0 in /usr/local/lib/python3.6/dist-packages (from tensorflow-gpu==2.0.0-alpha0) (1.1.0)\n",
            "Requirement already satisfied: astor>=0.6.0 in /usr/local/lib/python3.6/dist-packages (from tensorflow-gpu==2.0.0-alpha0) (0.7.1)\n",
            "Requirement already satisfied: h5py in /usr/local/lib/python3.6/dist-packages (from keras-applications>=1.0.6->tensorflow-gpu==2.0.0-alpha0) (2.8.0)\n",
            "Requirement already satisfied: werkzeug>=0.11.15 in /usr/local/lib/python3.6/dist-packages (from tb-nightly<1.14.0a20190302,>=1.14.0a20190301->tensorflow-gpu==2.0.0-alpha0) (0.15.4)\n",
            "Requirement already satisfied: markdown>=2.6.8 in /usr/local/lib/python3.6/dist-packages (from tb-nightly<1.14.0a20190302,>=1.14.0a20190301->tensorflow-gpu==2.0.0-alpha0) (3.1)\n",
            "Requirement already satisfied: setuptools in /usr/local/lib/python3.6/dist-packages (from protobuf>=3.6.1->tensorflow-gpu==2.0.0-alpha0) (41.0.1)\n",
            "Installing collected packages: tf-estimator-nightly, tb-nightly, google-pasta, tensorflow-gpu\n",
            "Successfully installed google-pasta-0.1.6 tb-nightly-1.14.0a20190301 tensorflow-gpu-2.0.0a0 tf-estimator-nightly-1.14.0.dev2019030115\n"
          ],
          "name": "stdout"
        },
        {
          "output_type": "display_data",
          "data": {
            "application/vnd.colab-display-data+json": {
              "pip_warning": {
                "packages": [
                  "tensorflow",
                  "tensorflow_estimator"
                ]
              }
            }
          },
          "metadata": {
            "tags": []
          }
        }
      ]
    },
    {
      "cell_type": "code",
      "metadata": {
        "id": "1OLc4WaXw3ah",
        "colab_type": "code",
        "colab": {}
      },
      "source": [
        "from tensorflow.keras.datasets import cifar10\n",
        "from tensorflow.keras.models import Sequential\n",
        "from tensorflow.keras.layers import Dense,Flatten,Softmax\n",
        "from tensorflow.keras.callbacks import EarlyStopping,ModelCheckpoint\n",
        "from sklearn.preprocessing import MinMaxScaler\n",
        "(x_train,y_train),(x_test,y_test) = cifar10.load_data()\n",
        "\n",
        "x_train = x_train.reshape(50000,3072)\n",
        "Scaler = MinMaxScaler().fit(x_train)\n",
        "x_train = Scaler.transform(x_train)\n",
        "x_train = x_train.reshape(50000,32,32,3)\n",
        "\n",
        "x_test = x_test.reshape(10000,3072)\n",
        "x_test = Scaler.transform(x_test)\n",
        "x_test = x_test.reshape(10000,32,32,3)"
      ],
      "execution_count": 0,
      "outputs": []
    },
    {
      "cell_type": "code",
      "metadata": {
        "id": "BdH7-vlwzYHw",
        "colab_type": "code",
        "colab": {
          "base_uri": "https://localhost:8080/",
          "height": 34
        },
        "outputId": "648df663-6a69-440a-d521-9dc237457dfe"
      },
      "source": [
        "num_class = 10\n",
        "names_class = ['plane', 'car', 'bird', 'cat', 'deer', 'dog', 'frog', 'horse', 'ship', 'truck']\n",
        "\n",
        "x_train.shape\n"
      ],
      "execution_count": 23,
      "outputs": [
        {
          "output_type": "execute_result",
          "data": {
            "text/plain": [
              "(50000, 32, 32, 3)"
            ]
          },
          "metadata": {
            "tags": []
          },
          "execution_count": 23
        }
      ]
    },
    {
      "cell_type": "code",
      "metadata": {
        "id": "CxFxJERQy0Y0",
        "colab_type": "code",
        "colab": {}
      },
      "source": [
        "model = Sequential()\n",
        "model.add(Flatten(input_shape=(32,32,3)))\n",
        "model.add(Dense(128,activation='relu'))\n",
        "model.add(Dense(10,activation='softmax'))\n",
        "\n"
      ],
      "execution_count": 0,
      "outputs": []
    },
    {
      "cell_type": "code",
      "metadata": {
        "id": "cSCcdkwJz1hQ",
        "colab_type": "code",
        "colab": {}
      },
      "source": [
        "model.compile(optimizer='adam',loss='sparse_categorical_crossentropy',metrics=['accuracy'])"
      ],
      "execution_count": 0,
      "outputs": []
    },
    {
      "cell_type": "code",
      "metadata": {
        "id": "Lz4kwuD70kXE",
        "colab_type": "code",
        "colab": {
          "base_uri": "https://localhost:8080/",
          "height": 593
        },
        "outputId": "9898c5a8-e638-4330-d79f-af978841d5e0"
      },
      "source": [
        "\n",
        "model.fit(x_train,y_train,epochs=15,validation_split=0.2)"
      ],
      "execution_count": 67,
      "outputs": [
        {
          "output_type": "stream",
          "text": [
            "Train on 40000 samples, validate on 10000 samples\n",
            "Epoch 1/15\n",
            "40000/40000 [==============================] - 7s 165us/sample - loss: 1.9458 - accuracy: 0.3019 - val_loss: 1.8291 - val_accuracy: 0.3384\n",
            "Epoch 2/15\n",
            "40000/40000 [==============================] - 7s 167us/sample - loss: 1.7924 - accuracy: 0.3613 - val_loss: 1.7970 - val_accuracy: 0.3573\n",
            "Epoch 3/15\n",
            "40000/40000 [==============================] - 7s 166us/sample - loss: 1.7391 - accuracy: 0.3818 - val_loss: 1.7451 - val_accuracy: 0.3798\n",
            "Epoch 4/15\n",
            "40000/40000 [==============================] - 7s 165us/sample - loss: 1.7077 - accuracy: 0.3926 - val_loss: 1.7181 - val_accuracy: 0.3881\n",
            "Epoch 5/15\n",
            "40000/40000 [==============================] - 7s 165us/sample - loss: 1.6804 - accuracy: 0.4026 - val_loss: 1.6733 - val_accuracy: 0.4169\n",
            "Epoch 6/15\n",
            "40000/40000 [==============================] - 7s 176us/sample - loss: 1.6667 - accuracy: 0.4110 - val_loss: 1.6968 - val_accuracy: 0.3983\n",
            "Epoch 7/15\n",
            "40000/40000 [==============================] - 7s 165us/sample - loss: 1.6592 - accuracy: 0.4123 - val_loss: 1.7100 - val_accuracy: 0.3925\n",
            "Epoch 8/15\n",
            "40000/40000 [==============================] - 6s 160us/sample - loss: 1.6428 - accuracy: 0.4180 - val_loss: 1.6725 - val_accuracy: 0.4127\n",
            "Epoch 9/15\n",
            "40000/40000 [==============================] - 6s 162us/sample - loss: 1.6356 - accuracy: 0.4187 - val_loss: 1.6672 - val_accuracy: 0.4103\n",
            "Epoch 10/15\n",
            "40000/40000 [==============================] - 7s 167us/sample - loss: 1.6177 - accuracy: 0.4270 - val_loss: 1.6533 - val_accuracy: 0.4131\n",
            "Epoch 11/15\n",
            "40000/40000 [==============================] - 7s 169us/sample - loss: 1.6086 - accuracy: 0.4298 - val_loss: 1.6455 - val_accuracy: 0.4178\n",
            "Epoch 12/15\n",
            "40000/40000 [==============================] - 7s 166us/sample - loss: 1.6028 - accuracy: 0.4316 - val_loss: 1.6452 - val_accuracy: 0.4158\n",
            "Epoch 13/15\n",
            "40000/40000 [==============================] - 7s 168us/sample - loss: 1.5997 - accuracy: 0.4293 - val_loss: 1.6540 - val_accuracy: 0.4147\n",
            "Epoch 14/15\n",
            "40000/40000 [==============================] - 7s 165us/sample - loss: 1.5900 - accuracy: 0.4378 - val_loss: 1.6649 - val_accuracy: 0.4103\n",
            "Epoch 15/15\n",
            "40000/40000 [==============================] - 7s 166us/sample - loss: 1.5818 - accuracy: 0.4387 - val_loss: 1.6520 - val_accuracy: 0.4159\n"
          ],
          "name": "stdout"
        },
        {
          "output_type": "execute_result",
          "data": {
            "text/plain": [
              "<tensorflow.python.keras.callbacks.History at 0x7fb52a024e10>"
            ]
          },
          "metadata": {
            "tags": []
          },
          "execution_count": 67
        }
      ]
    },
    {
      "cell_type": "code",
      "metadata": {
        "id": "D9ICVKN00o1Q",
        "colab_type": "code",
        "colab": {
          "base_uri": "https://localhost:8080/",
          "height": 72
        },
        "outputId": "d1cedd64-d606-47ad-d0b2-30c2af180f6f"
      },
      "source": [
        "model.evaluate(x_test,y_test)"
      ],
      "execution_count": 68,
      "outputs": [
        {
          "output_type": "stream",
          "text": [
            "10000/10000 [==============================] - 1s 62us/sample - loss: 1.6377 - accuracy: 0.4189\n"
          ],
          "name": "stdout"
        },
        {
          "output_type": "execute_result",
          "data": {
            "text/plain": [
              "[1.6376790733337403, 0.4189]"
            ]
          },
          "metadata": {
            "tags": []
          },
          "execution_count": 68
        }
      ]
    },
    {
      "cell_type": "code",
      "metadata": {
        "id": "Fe0Gs3Bo5A_A",
        "colab_type": "code",
        "colab": {
          "base_uri": "https://localhost:8080/",
          "height": 871
        },
        "outputId": "5e182fad-ad19-46b6-fd1d-c8577bcf4c15"
      },
      "source": [
        "mycb = ModelCheckpoint('best_model.h5',monitor='val_acc',save_best_only=True)\n",
        "model = Sequential()\n",
        "model.add(Flatten(input_shape=(32,32,3)))\n",
        "model.add(Dense(128,activation='relu'))\n",
        "model.add(Dense(64,activation='relu'))\n",
        "model.add(Dense(10,activation='softmax'))\n",
        "model.compile(optimizer='adam',loss='sparse_categorical_crossentropy',metrics=['accuracy'])\n",
        "model.fit(x_train,y_train,epochs=15,validation_split=0.2,callbacks=[mycb])\n"
      ],
      "execution_count": 5,
      "outputs": [
        {
          "output_type": "stream",
          "text": [
            "Train on 40000 samples, validate on 10000 samples\n",
            "Epoch 1/15\n",
            "39680/40000 [============================>.] - ETA: 0s - loss: 1.9108 - accuracy: 0.3079"
          ],
          "name": "stdout"
        },
        {
          "output_type": "stream",
          "text": [
            "WARNING: Logging before flag parsing goes to stderr.\n",
            "W0524 12:58:04.971310 139777885521792 callbacks.py:872] Can save best model only with val_acc available, skipping.\n"
          ],
          "name": "stderr"
        },
        {
          "output_type": "stream",
          "text": [
            "40000/40000 [==============================] - 8s 188us/sample - loss: 1.9096 - accuracy: 0.3084 - val_loss: 1.8004 - val_accuracy: 0.3447\n",
            "Epoch 2/15\n",
            "39904/40000 [============================>.] - ETA: 0s - loss: 1.7312 - accuracy: 0.3779"
          ],
          "name": "stdout"
        },
        {
          "output_type": "stream",
          "text": [
            "W0524 12:58:12.002820 139777885521792 callbacks.py:872] Can save best model only with val_acc available, skipping.\n"
          ],
          "name": "stderr"
        },
        {
          "output_type": "stream",
          "text": [
            "40000/40000 [==============================] - 7s 176us/sample - loss: 1.7316 - accuracy: 0.3778 - val_loss: 1.7248 - val_accuracy: 0.3820\n",
            "Epoch 3/15\n",
            "39936/40000 [============================>.] - ETA: 0s - loss: 1.6647 - accuracy: 0.4042"
          ],
          "name": "stdout"
        },
        {
          "output_type": "stream",
          "text": [
            "W0524 12:58:18.932351 139777885521792 callbacks.py:872] Can save best model only with val_acc available, skipping.\n"
          ],
          "name": "stderr"
        },
        {
          "output_type": "stream",
          "text": [
            "40000/40000 [==============================] - 7s 173us/sample - loss: 1.6645 - accuracy: 0.4043 - val_loss: 1.6600 - val_accuracy: 0.4027\n",
            "Epoch 4/15\n",
            "39648/40000 [============================>.] - ETA: 0s - loss: 1.6115 - accuracy: 0.4248"
          ],
          "name": "stdout"
        },
        {
          "output_type": "stream",
          "text": [
            "W0524 12:58:25.654238 139777885521792 callbacks.py:872] Can save best model only with val_acc available, skipping.\n"
          ],
          "name": "stderr"
        },
        {
          "output_type": "stream",
          "text": [
            "40000/40000 [==============================] - 7s 168us/sample - loss: 1.6111 - accuracy: 0.4247 - val_loss: 1.6727 - val_accuracy: 0.4042\n",
            "Epoch 5/15\n",
            "39936/40000 [============================>.] - ETA: 0s - loss: 1.5820 - accuracy: 0.4329"
          ],
          "name": "stdout"
        },
        {
          "output_type": "stream",
          "text": [
            "W0524 12:58:32.657291 139777885521792 callbacks.py:872] Can save best model only with val_acc available, skipping.\n"
          ],
          "name": "stderr"
        },
        {
          "output_type": "stream",
          "text": [
            "40000/40000 [==============================] - 7s 175us/sample - loss: 1.5820 - accuracy: 0.4327 - val_loss: 1.6423 - val_accuracy: 0.4158\n",
            "Epoch 6/15\n",
            "39872/40000 [============================>.] - ETA: 0s - loss: 1.5530 - accuracy: 0.4454"
          ],
          "name": "stdout"
        },
        {
          "output_type": "stream",
          "text": [
            "W0524 12:58:39.673132 139777885521792 callbacks.py:872] Can save best model only with val_acc available, skipping.\n"
          ],
          "name": "stderr"
        },
        {
          "output_type": "stream",
          "text": [
            "40000/40000 [==============================] - 7s 175us/sample - loss: 1.5528 - accuracy: 0.4454 - val_loss: 1.5885 - val_accuracy: 0.4417\n",
            "Epoch 7/15\n",
            "39776/40000 [============================>.] - ETA: 0s - loss: 1.5321 - accuracy: 0.4546"
          ],
          "name": "stdout"
        },
        {
          "output_type": "stream",
          "text": [
            "W0524 12:58:46.635409 139777885521792 callbacks.py:872] Can save best model only with val_acc available, skipping.\n"
          ],
          "name": "stderr"
        },
        {
          "output_type": "stream",
          "text": [
            "40000/40000 [==============================] - 7s 174us/sample - loss: 1.5322 - accuracy: 0.4545 - val_loss: 1.6128 - val_accuracy: 0.4249\n",
            "Epoch 8/15\n",
            "39744/40000 [============================>.] - ETA: 0s - loss: 1.5205 - accuracy: 0.4546"
          ],
          "name": "stdout"
        },
        {
          "output_type": "stream",
          "text": [
            "W0524 12:58:53.503406 139777885521792 callbacks.py:872] Can save best model only with val_acc available, skipping.\n"
          ],
          "name": "stderr"
        },
        {
          "output_type": "stream",
          "text": [
            "40000/40000 [==============================] - 7s 172us/sample - loss: 1.5201 - accuracy: 0.4546 - val_loss: 1.5759 - val_accuracy: 0.4418\n",
            "Epoch 9/15\n",
            "39968/40000 [============================>.] - ETA: 0s - loss: 1.5038 - accuracy: 0.4624"
          ],
          "name": "stdout"
        },
        {
          "output_type": "stream",
          "text": [
            "W0524 12:59:00.565830 139777885521792 callbacks.py:872] Can save best model only with val_acc available, skipping.\n"
          ],
          "name": "stderr"
        },
        {
          "output_type": "stream",
          "text": [
            "40000/40000 [==============================] - 7s 176us/sample - loss: 1.5038 - accuracy: 0.4624 - val_loss: 1.5859 - val_accuracy: 0.4458\n",
            "Epoch 10/15\n",
            "39840/40000 [============================>.] - ETA: 0s - loss: 1.4938 - accuracy: 0.4650"
          ],
          "name": "stdout"
        },
        {
          "output_type": "stream",
          "text": [
            "W0524 12:59:07.484010 139777885521792 callbacks.py:872] Can save best model only with val_acc available, skipping.\n"
          ],
          "name": "stderr"
        },
        {
          "output_type": "stream",
          "text": [
            "40000/40000 [==============================] - 7s 173us/sample - loss: 1.4939 - accuracy: 0.4650 - val_loss: 1.5516 - val_accuracy: 0.4507\n",
            "Epoch 11/15\n",
            "39904/40000 [============================>.] - ETA: 0s - loss: 1.4818 - accuracy: 0.4703"
          ],
          "name": "stdout"
        },
        {
          "output_type": "stream",
          "text": [
            "W0524 12:59:14.500488 139777885521792 callbacks.py:872] Can save best model only with val_acc available, skipping.\n"
          ],
          "name": "stderr"
        },
        {
          "output_type": "stream",
          "text": [
            "40000/40000 [==============================] - 7s 175us/sample - loss: 1.4815 - accuracy: 0.4703 - val_loss: 1.5518 - val_accuracy: 0.4494\n",
            "Epoch 12/15\n",
            "39680/40000 [============================>.] - ETA: 0s - loss: 1.4732 - accuracy: 0.4736"
          ],
          "name": "stdout"
        },
        {
          "output_type": "stream",
          "text": [
            "W0524 12:59:21.746113 139777885521792 callbacks.py:872] Can save best model only with val_acc available, skipping.\n"
          ],
          "name": "stderr"
        },
        {
          "output_type": "stream",
          "text": [
            "40000/40000 [==============================] - 7s 181us/sample - loss: 1.4730 - accuracy: 0.4735 - val_loss: 1.5753 - val_accuracy: 0.4407\n",
            "Epoch 13/15\n",
            "39776/40000 [============================>.] - ETA: 0s - loss: 1.4617 - accuracy: 0.4757"
          ],
          "name": "stdout"
        },
        {
          "output_type": "stream",
          "text": [
            "W0524 12:59:28.831549 139777885521792 callbacks.py:872] Can save best model only with val_acc available, skipping.\n"
          ],
          "name": "stderr"
        },
        {
          "output_type": "stream",
          "text": [
            "40000/40000 [==============================] - 7s 177us/sample - loss: 1.4615 - accuracy: 0.4756 - val_loss: 1.5972 - val_accuracy: 0.4349\n",
            "Epoch 14/15\n",
            "39808/40000 [============================>.] - ETA: 0s - loss: 1.4498 - accuracy: 0.4793"
          ],
          "name": "stdout"
        },
        {
          "output_type": "stream",
          "text": [
            "W0524 12:59:35.883979 139777885521792 callbacks.py:872] Can save best model only with val_acc available, skipping.\n"
          ],
          "name": "stderr"
        },
        {
          "output_type": "stream",
          "text": [
            "40000/40000 [==============================] - 7s 176us/sample - loss: 1.4502 - accuracy: 0.4791 - val_loss: 1.5358 - val_accuracy: 0.4605\n",
            "Epoch 15/15\n",
            "39904/40000 [============================>.] - ETA: 0s - loss: 1.4463 - accuracy: 0.4821"
          ],
          "name": "stdout"
        },
        {
          "output_type": "stream",
          "text": [
            "W0524 12:59:42.902918 139777885521792 callbacks.py:872] Can save best model only with val_acc available, skipping.\n"
          ],
          "name": "stderr"
        },
        {
          "output_type": "stream",
          "text": [
            "\b\b\b\b\b\b\b\b\b\b\b\b\b\b\b\b\b\b\b\b\b\b\b\b\b\b\b\b\b\b\b\b\b\b\b\b\b\b\b\b\b\b\b\b\b\b\b\b\b\b\b\b\b\b\b\b\b\b\b\b\b\b\b\b\b\b\b\b\b\b\b\b\b\b\b\b\b\b\b\b\b\b\b\b\b\b\b\b\r40000/40000 [==============================] - 7s 175us/sample - loss: 1.4468 - accuracy: 0.4817 - val_loss: 1.5357 - val_accuracy: 0.4564\n"
          ],
          "name": "stdout"
        },
        {
          "output_type": "execute_result",
          "data": {
            "text/plain": [
              "<tensorflow.python.keras.callbacks.History at 0x7f200d7fe2e8>"
            ]
          },
          "metadata": {
            "tags": []
          },
          "execution_count": 5
        }
      ]
    },
    {
      "cell_type": "code",
      "metadata": {
        "id": "cjBcvRUS5L8Q",
        "colab_type": "code",
        "colab": {
          "base_uri": "https://localhost:8080/",
          "height": 72
        },
        "outputId": "b5127b88-439c-4db6-b5dc-517d7b2dfc56"
      },
      "source": [
        "model.evaluate(x_test,y_test)"
      ],
      "execution_count": 6,
      "outputs": [
        {
          "output_type": "stream",
          "text": [
            "10000/10000 [==============================] - 1s 77us/sample - loss: 1.5283 - accuracy: 0.4560\n"
          ],
          "name": "stdout"
        },
        {
          "output_type": "execute_result",
          "data": {
            "text/plain": [
              "[1.5283197496414185, 0.456]"
            ]
          },
          "metadata": {
            "tags": []
          },
          "execution_count": 6
        }
      ]
    },
    {
      "cell_type": "code",
      "metadata": {
        "id": "Yu-S2sdu5oA6",
        "colab_type": "code",
        "colab": {
          "base_uri": "https://localhost:8080/",
          "height": 72
        },
        "outputId": "6afa82b3-6c62-4a3e-f7e2-b6e259695c46"
      },
      "source": [
        "model.evaluate(x_train,y_train)"
      ],
      "execution_count": 7,
      "outputs": [
        {
          "output_type": "stream",
          "text": [
            "50000/50000 [==============================] - 4s 70us/sample - loss: 1.4504 - accuracy: 0.4821\n"
          ],
          "name": "stdout"
        },
        {
          "output_type": "execute_result",
          "data": {
            "text/plain": [
              "[1.4503884851455688, 0.4821]"
            ]
          },
          "metadata": {
            "tags": []
          },
          "execution_count": 7
        }
      ]
    },
    {
      "cell_type": "code",
      "metadata": {
        "id": "4Yc_O54k9iMq",
        "colab_type": "code",
        "colab": {}
      },
      "source": [
        ""
      ],
      "execution_count": 0,
      "outputs": []
    }
  ]
}