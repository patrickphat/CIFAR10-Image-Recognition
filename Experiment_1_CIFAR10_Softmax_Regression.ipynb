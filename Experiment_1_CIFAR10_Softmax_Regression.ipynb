{
  "nbformat": 4,
  "nbformat_minor": 0,
  "metadata": {
    "colab": {
      "name": "Experiment-1-CIFAR10-Softmax-Regression",
      "version": "0.3.2",
      "provenance": [],
      "collapsed_sections": [],
      "toc_visible": true
    },
    "kernelspec": {
      "name": "python3",
      "display_name": "Python 3"
    },
    "accelerator": "GPU"
  },
  "cells": [
    {
      "cell_type": "code",
      "metadata": {
        "id": "-5SfJFq0136p",
        "colab_type": "code",
        "outputId": "38dbc998-51eb-45f3-c027-872013595edb",
        "colab": {
          "base_uri": "https://localhost:8080/",
          "height": 34
        }
      },
      "source": [
        "import tensorflow as tf\n",
        "import numpy as np\n",
        "tf.__version__"
      ],
      "execution_count": 23,
      "outputs": [
        {
          "output_type": "execute_result",
          "data": {
            "text/plain": [
              "'2.0.0-alpha0'"
            ]
          },
          "metadata": {
            "tags": []
          },
          "execution_count": 23
        }
      ]
    },
    {
      "cell_type": "code",
      "metadata": {
        "id": "j-pvQ_6a38Dx",
        "colab_type": "code",
        "outputId": "647a74da-0bd8-4598-b451-17dba2cf70f1",
        "colab": {
          "base_uri": "https://localhost:8080/",
          "height": 260
        }
      },
      "source": [
        "!pip uninstall tensorflow\n",
        "!pip uninstall tensorflow-gpu\n",
        "!pip install tensorflow-gpu==2.0.0-alpha0"
      ],
      "execution_count": 0,
      "outputs": [
        {
          "output_type": "stream",
          "text": [
            "\u001b[33mWARNING: Skipping tensorflow as it is not installed.\u001b[0m\n",
            "Uninstalling tensorflow-gpu-2.0.0a0:\n",
            "  Would remove:\n",
            "    /usr/local/bin/freeze_graph\n",
            "    /usr/local/bin/saved_model_cli\n",
            "    /usr/local/bin/tensorboard\n",
            "    /usr/local/bin/tf_upgrade_v2\n",
            "    /usr/local/bin/tflite_convert\n",
            "    /usr/local/bin/toco\n",
            "    /usr/local/bin/toco_from_protos\n",
            "    /usr/local/lib/python3.6/dist-packages/tensorflow/*\n",
            "    /usr/local/lib/python3.6/dist-packages/tensorflow_gpu-2.0.0a0.dist-info/*\n",
            "Proceed (y/n)? "
          ],
          "name": "stdout"
        }
      ]
    },
    {
      "cell_type": "code",
      "metadata": {
        "id": "3_Yc-du63_wO",
        "colab_type": "code",
        "colab": {}
      },
      "source": [
        "import tensorflow as tf\n",
        "tf.__version__\n"
      ],
      "execution_count": 0,
      "outputs": []
    },
    {
      "cell_type": "code",
      "metadata": {
        "id": "8CJlXdfolp1o",
        "colab_type": "code",
        "outputId": "6e8710d8-43c8-4f2e-ec00-aa95405ac478",
        "colab": {
          "base_uri": "https://localhost:8080/",
          "height": 332
        }
      },
      "source": [
        "from tensorflow import keras\n",
        "from tensorflow.keras.datasets import cifar10\n",
        "from tensorflow.keras.preprocessing.image import ImageDataGenerator\n",
        "from tensorflow.keras.models import Sequential\n",
        "from tensorflow.keras.layers import Dense, Dropout, Activation, Flatten\n",
        "from tensorflow.keras.layers import Conv2D, MaxPooling2D\n",
        "import os\n",
        "\n",
        "batch_size = 32\n",
        "num_classes = 10\n",
        "epochs = 100\n",
        "data_augmentation = True\n",
        "num_predictions = 20\n",
        "save_dir = os.path.join(os.getcwd(), 'saved_models')\n",
        "model_name = 'keras_cifar10_trained_model.h5'\n",
        "\n",
        "# The data, split between train and test sets:\n",
        "(x_train, y_train), (x_test, y_test) = cifar10.load_data()\n",
        "print('x_train shape:', x_train.shape)\n",
        "print(x_train.shape[0], 'train samples')\n",
        "print(x_test.shape[0], 'test samples')\n",
        "\n",
        "# Convert class vectors to binary class matrices.\n",
        "y_train = keras.utils.to_categorical(y_train, num_classes)\n",
        "y_test = keras.utils.to_categorical(y_test, num_classes)\n",
        "\n",
        "model = Sequential()\n",
        "model.add(Flatten(input_shape=(32, 32, 3)))\n",
        "model.add(Dense(num_classes,activation='softmax'))\n",
        "\n",
        "\n",
        "# Let's train the model using RMSprop\n",
        "model.compile(loss='categorical_crossentropy',\n",
        "              optimizer='adam',\n",
        "              metrics=['accuracy'])\n",
        "x_train=x_train.flatten().reshape(50000,3072)\n",
        "x_test=x_test.flatten().reshape(10000,3072)\n",
        "\n",
        "x_mean = np.mean(x_train,axis=0)\n",
        "\n",
        "x_train = x_train.astype('float32')\n",
        "x_test = x_test.astype('float32')\n",
        "\n",
        "# normalization           \n",
        "x_train -= x_mean\n",
        "x_test -= x_mean\n",
        "                         \n",
        "# feature scaling                        \n",
        "x_train /= 255\n",
        "x_test /= 255\n",
        "\n",
        "x_train = x_train.flatten().reshape(50000,32,32,3)\n",
        "x_test=x_test.flatten().reshape(10000,32,32,3)\n",
        "\n",
        "                         \n",
        "model.fit(x_train,y_train,epochs=5)\n",
        "\n",
        "\n",
        "# Save model and weights\n",
        "if not os.path.isdir(save_dir):\n",
        "    os.makedirs(save_dir)\n",
        "model_path = os.path.join(save_dir, model_name)\n",
        "model.save(model_path)\n",
        "print('Saved trained model at %s ' % model_path)\n",
        "\n",
        "# Score trained model.\n",
        "scores = model.evaluate(x_test, y_test, verbose=1)\n",
        "print('Test loss:', scores[0])\n",
        "print('Test accuracy:', scores[1])"
      ],
      "execution_count": 29,
      "outputs": [
        {
          "output_type": "stream",
          "text": [
            "x_train shape: (50000, 32, 32, 3)\n",
            "50000 train samples\n",
            "10000 test samples\n",
            "Epoch 1/5\n",
            "50000/50000 [==============================] - 5s 99us/sample - loss: 1.8276 - accuracy: 0.3693\n",
            "Epoch 2/5\n",
            "50000/50000 [==============================] - 4s 88us/sample - loss: 1.7601 - accuracy: 0.3955\n",
            "Epoch 3/5\n",
            "50000/50000 [==============================] - 8s 158us/sample - loss: 1.7433 - accuracy: 0.4028\n",
            "Epoch 4/5\n",
            "50000/50000 [==============================] - 8s 160us/sample - loss: 1.7308 - accuracy: 0.4055\n",
            "Epoch 5/5\n",
            "50000/50000 [==============================] - 9s 185us/sample - loss: 1.7216 - accuracy: 0.4109\n",
            "Saved trained model at /content/saved_models/keras_cifar10_trained_model.h5 \n",
            "10000/10000 [==============================] - 1s 138us/sample - loss: 1.7939 - accuracy: 0.3789\n",
            "Test loss: 1.7939217008590698\n",
            "Test accuracy: 0.3789\n"
          ],
          "name": "stdout"
        }
      ]
    },
    {
      "cell_type": "code",
      "metadata": {
        "id": "3eM7pKQ_wCZO",
        "colab_type": "code",
        "colab": {
          "base_uri": "https://localhost:8080/",
          "height": 52
        },
        "outputId": "0a47b35f-80e1-41cf-ca2c-750b20f68448"
      },
      "source": [
        "model.layers"
      ],
      "execution_count": 30,
      "outputs": [
        {
          "output_type": "execute_result",
          "data": {
            "text/plain": [
              "[<tensorflow.python.keras.layers.core.Flatten at 0x7f511b983b38>,\n",
              " <tensorflow.python.keras.layers.core.Dense at 0x7f511b943f60>]"
            ]
          },
          "metadata": {
            "tags": []
          },
          "execution_count": 30
        }
      ]
    },
    {
      "cell_type": "markdown",
      "metadata": {
        "id": "fp2fbaxqwDJW",
        "colab_type": "text"
      },
      "source": [
        "# Get weights from softmax layer"
      ]
    },
    {
      "cell_type": "code",
      "metadata": {
        "id": "PLN0_VUfl0aw",
        "colab_type": "code",
        "colab": {
          "base_uri": "https://localhost:8080/",
          "height": 34
        },
        "outputId": "caea7c3c-341c-470a-f7d0-1720627ca748"
      },
      "source": [
        "weights = model.layers[1].get_weights()[0]\n",
        "weights = weights.flatten().reshape(32,32,3,10)\n",
        "max_w = weights.max()\n",
        "min_w = weights.min()\n",
        "max_w\n"
      ],
      "execution_count": 31,
      "outputs": [
        {
          "output_type": "execute_result",
          "data": {
            "text/plain": [
              "0.29153076"
            ]
          },
          "metadata": {
            "tags": []
          },
          "execution_count": 31
        }
      ]
    },
    {
      "cell_type": "code",
      "metadata": {
        "id": "IjGeAyfb43JN",
        "colab_type": "code",
        "colab": {}
      },
      "source": [
        ""
      ],
      "execution_count": 0,
      "outputs": []
    },
    {
      "cell_type": "code",
      "metadata": {
        "id": "tbKaio5y46pf",
        "colab_type": "code",
        "colab": {
          "base_uri": "https://localhost:8080/",
          "height": 240
        },
        "outputId": "6b2412a7-fec6-4d1d-c924-e17e2ae5deac"
      },
      "source": [
        "import matplotlib.pyplot as plt\n",
        "plt.figure()\n",
        "\n",
        "for i in range(numclass):\n",
        "  plt.subplot(2, 5, i+1)\n",
        "  plt.title(class_names[i])\n",
        "  # Scale weight to 0 - 255\n",
        "  wPlot = 255.0 * (weights[:, :, :, i].squeeze() - min_w) / (max_w - min_w)\n",
        "  plt.imshow(wPlot.astype('uint8'))\n",
        "plt.savefig('visualizer.png')"
      ],
      "execution_count": 33,
      "outputs": [
        {
          "output_type": "display_data",
          "data": {
            "image/png": "[encoded data removed]",
            "text/plain": [
              "<Figure size 432x288 with 10 Axes>"
            ]
          },
          "metadata": {
            "tags": []
          }
        }
      ]
    },
    {
      "cell_type": "code",
      "metadata": {
        "id": "arwDgrU6_YJs",
        "colab_type": "code",
        "outputId": "1e2a28c8-2ffe-49b7-f4e4-3f2b30a37751",
        "colab": {
          "base_uri": "https://localhost:8080/",
          "height": 34
        }
      },
      "source": [
        "my_w = weights[:,:,:,1]\n",
        "max_w = np.max(my_w)\n",
        "min_w = np.min(my_w)\n",
        "pltweight = (my_w-min_w)/(max_w-min_w)*255\n",
        "#plt.imshow(pltweight)\n",
        "pltweight.min()"
      ],
      "execution_count": 217,
      "outputs": [
        {
          "output_type": "execute_result",
          "data": {
            "text/plain": [
              "0.0"
            ]
          },
          "metadata": {
            "tags": []
          },
          "execution_count": 217
        }
      ]
    },
    {
      "cell_type": "markdown",
      "metadata": {
        "id": "7Az7cXjaO8aV",
        "colab_type": "text"
      },
      "source": [
        "SKlearn softmax"
      ]
    },
    {
      "cell_type": "code",
      "metadata": {
        "id": "uM2ifL8dyplh",
        "colab_type": "code",
        "colab": {}
      },
      "source": [
        "from sklearn.linear_model import LogisticRegression\n",
        "from sklearn.metrics import accuracy_score\n",
        "from tensorflow import keras\n",
        "from tensorflow.keras.datasets import cifar10\n",
        "from sklearn.preprocessing import MinMaxScaler\n",
        "import os\n",
        "\n",
        "# The data, split between train and test sets:\n",
        "(x_train, y_train), (x_test, y_test) = cifar10.load_data()\n",
        "x_train = x_train.reshape(50000,3072)\n",
        "Scaler = MinMaxScaler().fit(x_train)\n",
        "\n",
        "x_train = Scaler.transform(x_train)\n",
        "x_test = x_test.reshape(10000,3072)\n",
        "x_test = Scaler.transform(x_test)\n",
        "\n",
        "\n"
      ],
      "execution_count": 0,
      "outputs": []
    },
    {
      "cell_type": "code",
      "metadata": {
        "id": "RwmoK1yb0UAC",
        "colab_type": "code",
        "outputId": "230dfa8a-970c-4ea0-edf2-5bccf0da572d",
        "colab": {
          "base_uri": "https://localhost:8080/",
          "height": 106
        }
      },
      "source": [
        "model = LogisticRegression(multi_class='multinomial',solver='lbfgs',max_iter=25)\n",
        "model.fit(x_train,y_train)\n",
        "y_pred = model.predict(x_test.reshape(10000,3072))"
      ],
      "execution_count": 25,
      "outputs": [
        {
          "output_type": "stream",
          "text": [
            "/usr/local/lib/python3.6/dist-packages/sklearn/utils/validation.py:724: DataConversionWarning: A column-vector y was passed when a 1d array was expected. Please change the shape of y to (n_samples, ), for example using ravel().\n",
            "  y = column_or_1d(y, warn=True)\n",
            "/usr/local/lib/python3.6/dist-packages/sklearn/linear_model/logistic.py:947: ConvergenceWarning: lbfgs failed to converge. Increase the number of iterations.\n",
            "  \"of iterations.\", ConvergenceWarning)\n"
          ],
          "name": "stderr"
        }
      ]
    },
    {
      "cell_type": "code",
      "metadata": {
        "id": "tm6oUJSs0Yr6",
        "colab_type": "code",
        "outputId": "93b389d4-e42a-4386-d4e5-85b040677551",
        "colab": {
          "base_uri": "https://localhost:8080/",
          "height": 34
        }
      },
      "source": [
        "accuracy_score(y_test,y_pred)"
      ],
      "execution_count": 26,
      "outputs": [
        {
          "output_type": "execute_result",
          "data": {
            "text/plain": [
              "0.3769"
            ]
          },
          "metadata": {
            "tags": []
          },
          "execution_count": 26
        }
      ]
    },
    {
      "cell_type": "code",
      "metadata": {
        "id": "N0-kZhzJ2ML2",
        "colab_type": "code",
        "outputId": "c6f5e36e-b678-4494-e78e-7edf2ae4701f",
        "colab": {
          "base_uri": "https://localhost:8080/",
          "height": 414
        }
      },
      "source": [
        "import matplotlib.pyplot as plt\n",
        "import numpy as np\n",
        "numclass = 10\n",
        "class_names = ['plane', 'car', 'bird', 'cat', 'deer', 'dog', 'frog', 'horse', 'ship', 'truck']\n",
        "max_w = np.max(model.coef_)\n",
        "min_w = np.min(model.coef_)\n",
        "\n",
        "\n",
        "plt.figure()\n",
        "\n",
        "for i in range(numclass):\n",
        "  plt.subplot(2, 5, i+1)\n",
        "  plt.title(class_names[i])\n",
        "  ith_weight = model.coef_[i].reshape(32,32,3)\n",
        "  plt.title(class_names[i])\n",
        "  # Scale weight to 0 - 255\n",
        "  wPlot = 255*(ith_weight - min_w)/(max_w-min_w)\n",
        "  print(wPlot.shape)\n",
        "  plt.imshow(wPlot.astype('uint8'))\n",
        "plt.savefig('visualizer.png')"
      ],
      "execution_count": 27,
      "outputs": [
        {
          "output_type": "stream",
          "text": [
            "(32, 32, 3)\n",
            "(32, 32, 3)\n",
            "(32, 32, 3)\n",
            "(32, 32, 3)\n",
            "(32, 32, 3)\n",
            "(32, 32, 3)\n",
            "(32, 32, 3)\n",
            "(32, 32, 3)\n",
            "(32, 32, 3)\n",
            "(32, 32, 3)\n"
          ],
          "name": "stdout"
        },
        {
          "output_type": "display_data",
          "data": {
            "image/png": "[encoded data removed]",
            "text/plain": [
              "<Figure size 432x288 with 10 Axes>"
            ]
          },
          "metadata": {
            "tags": []
          }
        }
      ]
    },
    {
      "cell_type": "code",
      "metadata": {
        "id": "0J-GduPw2vxE",
        "colab_type": "code",
        "outputId": "61c70e70-859d-453a-92d5-f108c2826b3a",
        "colab": {
          "base_uri": "https://localhost:8080/",
          "height": 34
        }
      },
      "source": [
        "x_train.shape"
      ],
      "execution_count": 178,
      "outputs": [
        {
          "output_type": "execute_result",
          "data": {
            "text/plain": [
              "(50000, 32, 32, 3)"
            ]
          },
          "metadata": {
            "tags": []
          },
          "execution_count": 178
        }
      ]
    },
    {
      "cell_type": "code",
      "metadata": {
        "id": "r73d5ot128fA",
        "colab_type": "code",
        "outputId": "30ef6876-1180-4ea5-c376-12aeb6477ff3",
        "colab": {
          "base_uri": "https://localhost:8080/",
          "height": 184
        }
      },
      "source": [
        "class_n = 9\n",
        "plt.imshow(255*((weights[1][0][:,class_n].reshape(32,32,3)))+np.max(weights[1][0][:,class_n].reshape(32,32,3)))#+weights[1][1][class_n]))"
      ],
      "execution_count": 0,
      "outputs": [
        {
          "output_type": "error",
          "ename": "NameError",
          "evalue": "ignored",
          "traceback": [
            "\u001b[0;31m---------------------------------------------------------------------------\u001b[0m",
            "\u001b[0;31mNameError\u001b[0m                                 Traceback (most recent call last)",
            "\u001b[0;32m<ipython-input-1-84f274d6cf08>\u001b[0m in \u001b[0;36m<module>\u001b[0;34m()\u001b[0m\n\u001b[1;32m      1\u001b[0m \u001b[0mclass_n\u001b[0m \u001b[0;34m=\u001b[0m \u001b[0;36m9\u001b[0m\u001b[0;34m\u001b[0m\u001b[0;34m\u001b[0m\u001b[0m\n\u001b[0;32m----> 2\u001b[0;31m \u001b[0mplt\u001b[0m\u001b[0;34m.\u001b[0m\u001b[0mimshow\u001b[0m\u001b[0;34m(\u001b[0m\u001b[0;36m255\u001b[0m\u001b[0;34m*\u001b[0m\u001b[0;34m(\u001b[0m\u001b[0;34m(\u001b[0m\u001b[0mweights\u001b[0m\u001b[0;34m[\u001b[0m\u001b[0;36m1\u001b[0m\u001b[0;34m]\u001b[0m\u001b[0;34m[\u001b[0m\u001b[0;36m0\u001b[0m\u001b[0;34m]\u001b[0m\u001b[0;34m[\u001b[0m\u001b[0;34m:\u001b[0m\u001b[0;34m,\u001b[0m\u001b[0mclass_n\u001b[0m\u001b[0;34m]\u001b[0m\u001b[0;34m.\u001b[0m\u001b[0mreshape\u001b[0m\u001b[0;34m(\u001b[0m\u001b[0;36m32\u001b[0m\u001b[0;34m,\u001b[0m\u001b[0;36m32\u001b[0m\u001b[0;34m,\u001b[0m\u001b[0;36m3\u001b[0m\u001b[0;34m)\u001b[0m\u001b[0;34m)\u001b[0m\u001b[0;34m)\u001b[0m\u001b[0;34m+\u001b[0m\u001b[0mnp\u001b[0m\u001b[0;34m.\u001b[0m\u001b[0mmax\u001b[0m\u001b[0;34m(\u001b[0m\u001b[0mweights\u001b[0m\u001b[0;34m[\u001b[0m\u001b[0;36m1\u001b[0m\u001b[0;34m]\u001b[0m\u001b[0;34m[\u001b[0m\u001b[0;36m0\u001b[0m\u001b[0;34m]\u001b[0m\u001b[0;34m[\u001b[0m\u001b[0;34m:\u001b[0m\u001b[0;34m,\u001b[0m\u001b[0mclass_n\u001b[0m\u001b[0;34m]\u001b[0m\u001b[0;34m.\u001b[0m\u001b[0mreshape\u001b[0m\u001b[0;34m(\u001b[0m\u001b[0;36m32\u001b[0m\u001b[0;34m,\u001b[0m\u001b[0;36m32\u001b[0m\u001b[0;34m,\u001b[0m\u001b[0;36m3\u001b[0m\u001b[0;34m)\u001b[0m\u001b[0;34m)\u001b[0m\u001b[0;34m)\u001b[0m\u001b[0;31m#+weights[1][1][class_n]))\u001b[0m\u001b[0;34m\u001b[0m\u001b[0;34m\u001b[0m\u001b[0m\n\u001b[0m",
            "\u001b[0;31mNameError\u001b[0m: name 'plt' is not defined"
          ]
        }
      ]
    },
    {
      "cell_type": "code",
      "metadata": {
        "id": "tksBxw353EQo",
        "colab_type": "code",
        "outputId": "269890c7-4ee1-470c-d34d-36a88c6eaced",
        "colab": {
          "base_uri": "https://localhost:8080/",
          "height": 34
        }
      },
      "source": [
        "np.min(255*((weights[1][0][:,class_n].reshape(32,32,3))-np.min(weights[1][0][:,class_n].reshape(32,32,3))))"
      ],
      "execution_count": 0,
      "outputs": [
        {
          "output_type": "execute_result",
          "data": {
            "text/plain": [
              "0.0"
            ]
          },
          "metadata": {
            "tags": []
          },
          "execution_count": 159
        }
      ]
    },
    {
      "cell_type": "code",
      "metadata": {
        "id": "NIOv0IQi4vuI",
        "colab_type": "code",
        "colab": {
          "base_uri": "https://localhost:8080/",
          "height": 868
        },
        "outputId": "22490df4-14b7-4921-dbf9-535bdbc7311f"
      },
      "source": [
        "np.mean(x_train,axis=1)"
      ],
      "execution_count": 140,
      "outputs": [
        {
          "output_type": "execute_result",
          "data": {
            "text/plain": [
              "array([[[135.5    , 104.8125 ,  69.8125 ],\n",
              "        [127.6875 ,  87.9375 ,  40.90625],\n",
              "        [132.34375,  93.9375 ,  46.125  ],\n",
              "        ...,\n",
              "        [137.0625 , 107.25   ,  54.71875],\n",
              "        [124.9375 ,  93.65625,  47.5625 ],\n",
              "        [118.9375 ,  90.78125,  51.8125 ]],\n",
              "\n",
              "       [[140.     , 141.03125, 147.53125],\n",
              "        [135.75   , 143.28125, 156.5625 ],\n",
              "        [116.90625, 125.53125, 137.5    ],\n",
              "        ...,\n",
              "        [114.84375, 108.25   ,  91.96875],\n",
              "        [112.0625 , 107.15625,  90.53125],\n",
              "        [115.9375 , 112.34375,  99.34375]],\n",
              "\n",
              "       [[173.     , 178.     , 168.5625 ],\n",
              "        [168.125  , 172.59375, 164.65625],\n",
              "        [171.03125, 173.0625 , 167.3125 ],\n",
              "        ...,\n",
              "        [136.6875 , 144.40625, 139.65625],\n",
              "        [133.71875, 141.40625, 136.59375],\n",
              "        [133.40625, 141.09375, 136.28125]],\n",
              "\n",
              "       ...,\n",
              "\n",
              "       [[ 88.875  , 117.59375, 122.25   ],\n",
              "        [ 79.28125, 112.53125, 123.28125],\n",
              "        [ 77.96875, 113.0625 , 123.625  ],\n",
              "        ...,\n",
              "        [ 73.78125,  91.65625,  94.8125 ],\n",
              "        [ 44.5    ,  60.96875,  61.6875 ],\n",
              "        [ 24.8125 ,  39.71875,  35.5625 ]],\n",
              "\n",
              "       [[184.96875, 187.75   , 188.5    ],\n",
              "        [180.5625 , 183.59375, 185.625  ],\n",
              "        [181.1875 , 185.4375 , 190.375  ],\n",
              "        ...,\n",
              "        [148.09375, 157.84375, 171.78125],\n",
              "        [153.09375, 159.65625, 164.5    ],\n",
              "        [160.46875, 165.53125, 163.     ]],\n",
              "\n",
              "       [[133.53125, 126.1875 , 122.65625],\n",
              "        [147.375  , 141.59375, 138.5    ],\n",
              "        [153.5625 , 149.1875 , 145.84375],\n",
              "        ...,\n",
              "        [150.0625 , 136.375  , 131.65625],\n",
              "        [150.09375, 136.8125 , 131.28125],\n",
              "        [145.34375, 131.21875, 124.65625]]], dtype=float32)"
            ]
          },
          "metadata": {
            "tags": []
          },
          "execution_count": 140
        }
      ]
    },
    {
      "cell_type": "code",
      "metadata": {
        "id": "UfIRrSwXCTGl",
        "colab_type": "code",
        "colab": {}
      },
      "source": [
        "x_train_phat = x_train.copy().flatten().reshape(50000,3072)"
      ],
      "execution_count": 0,
      "outputs": []
    },
    {
      "cell_type": "code",
      "metadata": {
        "id": "oWbYvtBTHTU4",
        "colab_type": "code",
        "colab": {}
      },
      "source": [
        "mymean = np.mean(x_train_phat,axis=0)\n",
        "x_train_phat -= mymean"
      ],
      "execution_count": 0,
      "outputs": []
    },
    {
      "cell_type": "code",
      "metadata": {
        "id": "dqbeq-AmHkq5",
        "colab_type": "code",
        "colab": {
          "base_uri": "https://localhost:8080/",
          "height": 34
        },
        "outputId": "d5e4f4b7-e096-4c8e-d323-c83b8ebcdf7b"
      },
      "source": [
        "np.max(x_train_phat)"
      ],
      "execution_count": 183,
      "outputs": [
        {
          "output_type": "execute_result",
          "data": {
            "text/plain": [
              "0.60786617"
            ]
          },
          "metadata": {
            "tags": []
          },
          "execution_count": 183
        }
      ]
    },
    {
      "cell_type": "code",
      "metadata": {
        "id": "_xGPezfmHmri",
        "colab_type": "code",
        "colab": {}
      },
      "source": [
        ""
      ],
      "execution_count": 0,
      "outputs": []
    }
  ]
}