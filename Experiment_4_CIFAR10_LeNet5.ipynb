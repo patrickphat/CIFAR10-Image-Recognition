{
  "nbformat": 4,
  "nbformat_minor": 0,
  "metadata": {
    "colab": {
      "name": "Experiment-4-CIFAR10-LeNet5",
      "version": "0.3.2",
      "provenance": [],
      "toc_visible": true,
      "include_colab_link": true
    },
    "kernelspec": {
      "name": "python3",
      "display_name": "Python 3"
    },
    "accelerator": "GPU"
  },
  "cells": [
    {
      "cell_type": "markdown",
      "metadata": {
        "id": "view-in-github",
        "colab_type": "text"
      },
      "source": [
        "<a href=\"https://colab.research.google.com/github/patrickphatnguyen/CIFAR10-Image-Recognition/blob/master/Experiment_4_CIFAR10_LeNet5.ipynb\" target=\"_parent\"><img src=\"https://colab.research.google.com/assets/colab-badge.svg\" alt=\"Open In Colab\"/></a>"
      ]
    },
    {
      "cell_type": "code",
      "metadata": {
        "id": "rkHMfc9dYSeE",
        "colab_type": "code",
        "outputId": "d96587a7-0411-4934-e6db-ce9e73f7ebe1",
        "colab": {
          "base_uri": "https://localhost:8080/",
          "height": 35
        }
      },
      "source": [
        "import tensorflow as tf\n",
        "import numpy as np\n",
        "tf.__version__"
      ],
      "execution_count": 15,
      "outputs": [
        {
          "output_type": "execute_result",
          "data": {
            "text/plain": [
              "'2.0.0-alpha0'"
            ]
          },
          "metadata": {
            "tags": []
          },
          "execution_count": 15
        }
      ]
    },
    {
      "cell_type": "code",
      "metadata": {
        "id": "2dSdrUdsYc17",
        "colab_type": "code",
        "outputId": "99a7a99d-1348-47b9-f057-ba97b5a7d9c0",
        "colab": {
          "base_uri": "https://localhost:8080/",
          "height": 869
        }
      },
      "source": [
        "!pip uninstall tensorflow\n",
        "!pip uninstall tensorflow-gpu\n",
        "!pip install tensorflow-gpu==2.0.0-alpha0"
      ],
      "execution_count": 2,
      "outputs": [
        {
          "output_type": "stream",
          "text": [
            "Uninstalling tensorflow-1.13.1:\n",
            "  Would remove:\n",
            "    /usr/local/bin/freeze_graph\n",
            "    /usr/local/bin/saved_model_cli\n",
            "    /usr/local/bin/tensorboard\n",
            "    /usr/local/bin/tf_upgrade_v2\n",
            "    /usr/local/bin/tflite_convert\n",
            "    /usr/local/bin/toco\n",
            "    /usr/local/bin/toco_from_protos\n",
            "    /usr/local/lib/python3.6/dist-packages/tensorflow-1.13.1.dist-info/*\n",
            "    /usr/local/lib/python3.6/dist-packages/tensorflow/*\n",
            "Proceed (y/n)? y\n",
            "  Successfully uninstalled tensorflow-1.13.1\n",
            "\u001b[33mWARNING: Skipping tensorflow-gpu as it is not installed.\u001b[0m\n",
            "Collecting tensorflow-gpu==2.0.0-alpha0\n",
            "\u001b[?25l  Downloading https://files.pythonhosted.org/packages/1a/66/32cffad095253219d53f6b6c2a436637bbe45ac4e7be0244557210dc3918/tensorflow_gpu-2.0.0a0-cp36-cp36m-manylinux1_x86_64.whl (332.1MB)\n",
            "\u001b[K     |████████████████████████████████| 332.1MB 53kB/s \n",
            "\u001b[?25hRequirement already satisfied: six>=1.10.0 in /usr/local/lib/python3.6/dist-packages (from tensorflow-gpu==2.0.0-alpha0) (1.12.0)\n",
            "Requirement already satisfied: gast>=0.2.0 in /usr/local/lib/python3.6/dist-packages (from tensorflow-gpu==2.0.0-alpha0) (0.2.2)\n",
            "Requirement already satisfied: astor>=0.6.0 in /usr/local/lib/python3.6/dist-packages (from tensorflow-gpu==2.0.0-alpha0) (0.8.0)\n",
            "Requirement already satisfied: grpcio>=1.8.6 in /usr/local/lib/python3.6/dist-packages (from tensorflow-gpu==2.0.0-alpha0) (1.15.0)\n",
            "Collecting tf-estimator-nightly<1.14.0.dev2019030116,>=1.14.0.dev2019030115 (from tensorflow-gpu==2.0.0-alpha0)\n",
            "\u001b[?25l  Downloading https://files.pythonhosted.org/packages/13/82/f16063b4eed210dc2ab057930ac1da4fbe1e91b7b051a6c8370b401e6ae7/tf_estimator_nightly-1.14.0.dev2019030115-py2.py3-none-any.whl (411kB)\n",
            "\u001b[K     |████████████████████████████████| 419kB 49.7MB/s \n",
            "\u001b[?25hRequirement already satisfied: protobuf>=3.6.1 in /usr/local/lib/python3.6/dist-packages (from tensorflow-gpu==2.0.0-alpha0) (3.7.1)\n",
            "Requirement already satisfied: keras-applications>=1.0.6 in /usr/local/lib/python3.6/dist-packages (from tensorflow-gpu==2.0.0-alpha0) (1.0.7)\n",
            "Collecting tb-nightly<1.14.0a20190302,>=1.14.0a20190301 (from tensorflow-gpu==2.0.0-alpha0)\n",
            "\u001b[?25l  Downloading https://files.pythonhosted.org/packages/a9/51/aa1d756644bf4624c03844115e4ac4058eff77acd786b26315f051a4b195/tb_nightly-1.14.0a20190301-py3-none-any.whl (3.0MB)\n",
            "\u001b[K     |████████████████████████████████| 3.0MB 37.0MB/s \n",
            "\u001b[?25hRequirement already satisfied: keras-preprocessing>=1.0.5 in /usr/local/lib/python3.6/dist-packages (from tensorflow-gpu==2.0.0-alpha0) (1.0.9)\n",
            "Collecting google-pasta>=0.1.2 (from tensorflow-gpu==2.0.0-alpha0)\n",
            "\u001b[?25l  Downloading https://files.pythonhosted.org/packages/f9/68/a14620bfb042691f532dcde8576ff82ee82e4c003cdc0a3dbee5f289cee6/google_pasta-0.1.6-py3-none-any.whl (51kB)\n",
            "\u001b[K     |████████████████████████████████| 61kB 25.9MB/s \n",
            "\u001b[?25hRequirement already satisfied: wheel>=0.26 in /usr/local/lib/python3.6/dist-packages (from tensorflow-gpu==2.0.0-alpha0) (0.33.4)\n",
            "Requirement already satisfied: numpy<2.0,>=1.14.5 in /usr/local/lib/python3.6/dist-packages (from tensorflow-gpu==2.0.0-alpha0) (1.16.3)\n",
            "Requirement already satisfied: absl-py>=0.7.0 in /usr/local/lib/python3.6/dist-packages (from tensorflow-gpu==2.0.0-alpha0) (0.7.1)\n",
            "Requirement already satisfied: termcolor>=1.1.0 in /usr/local/lib/python3.6/dist-packages (from tensorflow-gpu==2.0.0-alpha0) (1.1.0)\n",
            "Requirement already satisfied: setuptools in /usr/local/lib/python3.6/dist-packages (from protobuf>=3.6.1->tensorflow-gpu==2.0.0-alpha0) (41.0.1)\n",
            "Requirement already satisfied: h5py in /usr/local/lib/python3.6/dist-packages (from keras-applications>=1.0.6->tensorflow-gpu==2.0.0-alpha0) (2.8.0)\n",
            "Requirement already satisfied: markdown>=2.6.8 in /usr/local/lib/python3.6/dist-packages (from tb-nightly<1.14.0a20190302,>=1.14.0a20190301->tensorflow-gpu==2.0.0-alpha0) (3.1.1)\n",
            "Requirement already satisfied: werkzeug>=0.11.15 in /usr/local/lib/python3.6/dist-packages (from tb-nightly<1.14.0a20190302,>=1.14.0a20190301->tensorflow-gpu==2.0.0-alpha0) (0.15.4)\n",
            "Installing collected packages: tf-estimator-nightly, tb-nightly, google-pasta, tensorflow-gpu\n",
            "Successfully installed google-pasta-0.1.6 tb-nightly-1.14.0a20190301 tensorflow-gpu-2.0.0a0 tf-estimator-nightly-1.14.0.dev2019030115\n"
          ],
          "name": "stdout"
        },
        {
          "output_type": "display_data",
          "data": {
            "application/vnd.colab-display-data+json": {
              "pip_warning": {
                "packages": [
                  "tensorflow",
                  "tensorflow_estimator"
                ]
              }
            }
          },
          "metadata": {
            "tags": []
          }
        }
      ]
    },
    {
      "cell_type": "markdown",
      "metadata": {
        "id": "yJ2jGiKuJL2L",
        "colab_type": "text"
      },
      "source": [
        "# Import Library"
      ]
    },
    {
      "cell_type": "code",
      "metadata": {
        "id": "4vquERDEKsxu",
        "colab_type": "code",
        "colab": {}
      },
      "source": [
        "from tensorflow import keras\n",
        "from tensorflow.keras import optimizers\n",
        "from tensorflow.keras.datasets import cifar10\n",
        "from tensorflow.keras.models import Sequential\n",
        "from tensorflow.keras.layers import Conv2D, Dense, Flatten, MaxPooling2D\n",
        "from tensorflow.keras.callbacks import LearningRateScheduler, TensorBoard,ModelCheckpoint\n"
      ],
      "execution_count": 0,
      "outputs": []
    },
    {
      "cell_type": "markdown",
      "metadata": {
        "id": "2r5L5eGZI8gK",
        "colab_type": "text"
      },
      "source": [
        "# Build model and load data\n"
      ]
    },
    {
      "cell_type": "code",
      "metadata": {
        "id": "achfQCpnYfBI",
        "colab_type": "code",
        "colab": {}
      },
      "source": [
        "def build_model():\n",
        "    model = Sequential()\n",
        "    model.add(Conv2D(6, (5, 5), padding='valid', activation = 'relu', kernel_initializer='he_normal', input_shape=(32,32,3)))\n",
        "    model.add(MaxPooling2D((2, 2), strides=(2, 2)))\n",
        "    model.add(Conv2D(16, (5, 5), padding='valid', activation = 'relu', kernel_initializer='he_normal'))\n",
        "    model.add(MaxPooling2D((2, 2), strides=(2, 2)))\n",
        "    model.add(Flatten())\n",
        "    model.add(Dense(120, activation = 'relu', kernel_initializer='he_normal'))\n",
        "    model.add(Dense(84, activation = 'relu', kernel_initializer='he_normal'))\n",
        "    model.add(Dense(10, activation = 'softmax', kernel_initializer='he_normal'))\n",
        "    sgd = optimizers.SGD(lr=.1, momentum=0.9, nesterov=True)\n",
        "    model.compile(loss='categorical_crossentropy', optimizer=sgd, metrics=['accuracy'])\n",
        "    return model\n",
        "(x_train, y_train), (x_test, y_test) = cifar10.load_data()\n",
        "y_train = keras.utils.to_categorical(y_train, 10)\n",
        "y_test = keras.utils.to_categorical(y_test, 10)\n",
        "x_train = x_train.astype('float32')\n",
        "x_test = x_test.astype('float32')\n",
        "x_train /= 255.0\n",
        "x_test /= 255.0"
      ],
      "execution_count": 0,
      "outputs": []
    },
    {
      "cell_type": "code",
      "metadata": {
        "id": "EcO4_C8zYg5s",
        "colab_type": "code",
        "outputId": "7e7b4896-8786-460b-fae7-e8ddb5b33ee9",
        "colab": {
          "base_uri": "https://localhost:8080/",
          "height": 1719
        }
      },
      "source": [
        "\n",
        "\n",
        "\n",
        "# Learning rate decay\n",
        "def scheduler(epoch):\n",
        "    if epoch < 100:\n",
        "        return 0.01\n",
        "    if epoch < 150:\n",
        "        return 0.005\n",
        "    return 0.001\n",
        "\n",
        "\n",
        "# build network\n",
        "model = build_model()\n",
        "print(model.summary())\n",
        "\n",
        "# set callback\n",
        "tb_cb = TensorBoard(log_dir='./lenet', histogram_freq=0)\n",
        "checkpoint_cb=ModelCheckpoint(\"best_model.h5\", monitor='val_accuracy', save_best_only=True,save_weights_only=False)\n",
        "lr_decay = LearningRateScheduler(scheduler)\n",
        "mycb = [lr_decay,tb_cb,checkpoint_cb]\n",
        "\n",
        "# start train\n",
        "model.fit(x_train, y_train,\n",
        "          batch_size=128,\n",
        "          epochs=35,\n",
        "          callbacks=mycb,\n",
        "          validation_data=(x_test, y_test),\n",
        "          shuffle=True)\n",
        "\n",
        "# save model\n",
        "#model.save('lenet.h5')\n"
      ],
      "execution_count": 21,
      "outputs": [
        {
          "output_type": "stream",
          "text": [
            "Model: \"sequential_6\"\n",
            "_________________________________________________________________\n",
            "Layer (type)                 Output Shape              Param #   \n",
            "=================================================================\n",
            "conv2d_12 (Conv2D)           (None, 28, 28, 6)         456       \n",
            "_________________________________________________________________\n",
            "max_pooling2d_12 (MaxPooling (None, 14, 14, 6)         0         \n",
            "_________________________________________________________________\n",
            "conv2d_13 (Conv2D)           (None, 10, 10, 16)        2416      \n",
            "_________________________________________________________________\n",
            "max_pooling2d_13 (MaxPooling (None, 5, 5, 16)          0         \n",
            "_________________________________________________________________\n",
            "flatten_6 (Flatten)          (None, 400)               0         \n",
            "_________________________________________________________________\n",
            "dense_18 (Dense)             (None, 120)               48120     \n",
            "_________________________________________________________________\n",
            "dense_19 (Dense)             (None, 84)                10164     \n",
            "_________________________________________________________________\n",
            "dense_20 (Dense)             (None, 10)                850       \n",
            "=================================================================\n",
            "Total params: 62,006\n",
            "Trainable params: 62,006\n",
            "Non-trainable params: 0\n",
            "_________________________________________________________________\n",
            "None\n",
            "Train on 50000 samples, validate on 10000 samples\n",
            "Epoch 1/35\n",
            "50000/50000 [==============================] - 3s 63us/sample - loss: 1.8753 - accuracy: 0.3176 - val_loss: 1.6865 - val_accuracy: 0.3949\n",
            "Epoch 2/35\n",
            "50000/50000 [==============================] - 3s 57us/sample - loss: 1.4829 - accuracy: 0.4635 - val_loss: 1.4049 - val_accuracy: 0.4986\n",
            "Epoch 3/35\n",
            "50000/50000 [==============================] - 3s 56us/sample - loss: 1.3574 - accuracy: 0.5151 - val_loss: 1.3313 - val_accuracy: 0.5226\n",
            "Epoch 4/35\n",
            "50000/50000 [==============================] - 3s 57us/sample - loss: 1.2755 - accuracy: 0.5440 - val_loss: 1.3089 - val_accuracy: 0.5330\n",
            "Epoch 5/35\n",
            "50000/50000 [==============================] - 3s 57us/sample - loss: 1.2129 - accuracy: 0.5656 - val_loss: 1.2502 - val_accuracy: 0.5553\n",
            "Epoch 6/35\n",
            "50000/50000 [==============================] - 3s 56us/sample - loss: 1.1602 - accuracy: 0.5884 - val_loss: 1.2748 - val_accuracy: 0.5478\n",
            "Epoch 7/35\n",
            "50000/50000 [==============================] - 3s 58us/sample - loss: 1.1098 - accuracy: 0.6058 - val_loss: 1.1920 - val_accuracy: 0.5831\n",
            "Epoch 8/35\n",
            "50000/50000 [==============================] - 3s 56us/sample - loss: 1.0720 - accuracy: 0.6203 - val_loss: 1.2257 - val_accuracy: 0.5757\n",
            "Epoch 9/35\n",
            "50000/50000 [==============================] - 3s 63us/sample - loss: 1.0357 - accuracy: 0.6337 - val_loss: 1.1693 - val_accuracy: 0.5944\n",
            "Epoch 10/35\n",
            "50000/50000 [==============================] - 3s 62us/sample - loss: 1.0058 - accuracy: 0.6446 - val_loss: 1.2028 - val_accuracy: 0.5808\n",
            "Epoch 11/35\n",
            "50000/50000 [==============================] - 3s 63us/sample - loss: 0.9718 - accuracy: 0.6572 - val_loss: 1.1618 - val_accuracy: 0.6000\n",
            "Epoch 12/35\n",
            "50000/50000 [==============================] - 3s 58us/sample - loss: 0.9402 - accuracy: 0.6677 - val_loss: 1.1782 - val_accuracy: 0.5883\n",
            "Epoch 13/35\n",
            "50000/50000 [==============================] - 3s 56us/sample - loss: 0.9149 - accuracy: 0.6795 - val_loss: 1.1694 - val_accuracy: 0.5964\n",
            "Epoch 14/35\n",
            "50000/50000 [==============================] - 3s 57us/sample - loss: 0.8909 - accuracy: 0.6855 - val_loss: 1.1625 - val_accuracy: 0.6049\n",
            "Epoch 15/35\n",
            "50000/50000 [==============================] - 3s 57us/sample - loss: 0.8608 - accuracy: 0.6964 - val_loss: 1.1626 - val_accuracy: 0.6022\n",
            "Epoch 16/35\n",
            "50000/50000 [==============================] - 3s 56us/sample - loss: 0.8399 - accuracy: 0.7019 - val_loss: 1.2041 - val_accuracy: 0.5941\n",
            "Epoch 17/35\n",
            "50000/50000 [==============================] - 3s 57us/sample - loss: 0.8150 - accuracy: 0.7128 - val_loss: 1.1978 - val_accuracy: 0.6051\n",
            "Epoch 18/35\n",
            "50000/50000 [==============================] - 3s 56us/sample - loss: 0.7894 - accuracy: 0.7205 - val_loss: 1.2091 - val_accuracy: 0.6033\n",
            "Epoch 19/35\n",
            "50000/50000 [==============================] - 3s 56us/sample - loss: 0.7699 - accuracy: 0.7265 - val_loss: 1.2352 - val_accuracy: 0.5995\n",
            "Epoch 20/35\n",
            "50000/50000 [==============================] - 3s 56us/sample - loss: 0.7521 - accuracy: 0.7322 - val_loss: 1.2433 - val_accuracy: 0.6009\n",
            "Epoch 21/35\n",
            "50000/50000 [==============================] - 3s 56us/sample - loss: 0.7299 - accuracy: 0.7404 - val_loss: 1.2587 - val_accuracy: 0.6004\n",
            "Epoch 22/35\n",
            "50000/50000 [==============================] - 3s 57us/sample - loss: 0.7090 - accuracy: 0.7508 - val_loss: 1.2801 - val_accuracy: 0.6052\n",
            "Epoch 23/35\n",
            "50000/50000 [==============================] - 3s 56us/sample - loss: 0.6892 - accuracy: 0.7552 - val_loss: 1.2490 - val_accuracy: 0.6045\n",
            "Epoch 24/35\n",
            "50000/50000 [==============================] - 3s 56us/sample - loss: 0.6685 - accuracy: 0.7652 - val_loss: 1.3054 - val_accuracy: 0.5947\n",
            "Epoch 25/35\n",
            "50000/50000 [==============================] - 3s 56us/sample - loss: 0.6527 - accuracy: 0.7682 - val_loss: 1.3067 - val_accuracy: 0.6001\n",
            "Epoch 26/35\n",
            "50000/50000 [==============================] - 3s 56us/sample - loss: 0.6379 - accuracy: 0.7705 - val_loss: 1.3345 - val_accuracy: 0.6024\n",
            "Epoch 27/35\n",
            "50000/50000 [==============================] - 3s 56us/sample - loss: 0.6133 - accuracy: 0.7808 - val_loss: 1.3864 - val_accuracy: 0.5980\n",
            "Epoch 28/35\n",
            "50000/50000 [==============================] - 3s 56us/sample - loss: 0.6015 - accuracy: 0.7860 - val_loss: 1.4607 - val_accuracy: 0.5896\n",
            "Epoch 29/35\n",
            "50000/50000 [==============================] - 3s 57us/sample - loss: 0.5847 - accuracy: 0.7915 - val_loss: 1.4624 - val_accuracy: 0.5973\n",
            "Epoch 30/35\n",
            "50000/50000 [==============================] - 3s 56us/sample - loss: 0.5726 - accuracy: 0.7934 - val_loss: 1.4869 - val_accuracy: 0.5925\n",
            "Epoch 31/35\n",
            "50000/50000 [==============================] - 3s 56us/sample - loss: 0.5583 - accuracy: 0.7974 - val_loss: 1.4950 - val_accuracy: 0.5962\n",
            "Epoch 32/35\n",
            "50000/50000 [==============================] - 3s 55us/sample - loss: 0.5426 - accuracy: 0.8065 - val_loss: 1.5843 - val_accuracy: 0.5870\n",
            "Epoch 33/35\n",
            "50000/50000 [==============================] - 3s 56us/sample - loss: 0.5330 - accuracy: 0.8079 - val_loss: 1.5609 - val_accuracy: 0.5925\n",
            "Epoch 34/35\n",
            "50000/50000 [==============================] - 3s 57us/sample - loss: 0.5157 - accuracy: 0.8139 - val_loss: 1.6236 - val_accuracy: 0.5830\n",
            "Epoch 35/35\n",
            "50000/50000 [==============================] - 3s 56us/sample - loss: 0.5065 - accuracy: 0.8166 - val_loss: 1.7183 - val_accuracy: 0.5803\n"
          ],
          "name": "stdout"
        },
        {
          "output_type": "execute_result",
          "data": {
            "text/plain": [
              "<tensorflow.python.keras.callbacks.History at 0x7f934d341b38>"
            ]
          },
          "metadata": {
            "tags": []
          },
          "execution_count": 21
        }
      ]
    },
    {
      "cell_type": "code",
      "metadata": {
        "id": "WuGTYuFMaRKR",
        "colab_type": "code",
        "colab": {}
      },
      "source": [
        "model.load_weights(\"best_model.h5\")"
      ],
      "execution_count": 0,
      "outputs": []
    },
    {
      "cell_type": "code",
      "metadata": {
        "id": "a7fPgO1ic6n0",
        "colab_type": "code",
        "outputId": "141fd9ea-f7a9-4599-a72e-6a1240ef6565",
        "colab": {
          "base_uri": "https://localhost:8080/",
          "height": 52
        }
      },
      "source": [
        "model.evaluate(x_test,y_test)"
      ],
      "execution_count": 25,
      "outputs": [
        {
          "output_type": "stream",
          "text": [
            "10000/10000 [==============================] - 1s 115us/sample - loss: 1.2801 - accuracy: 0.6052\n"
          ],
          "name": "stdout"
        },
        {
          "output_type": "execute_result",
          "data": {
            "text/plain": [
              "[1.2800772115707397, 0.6052]"
            ]
          },
          "metadata": {
            "tags": []
          },
          "execution_count": 25
        }
      ]
    },
    {
      "cell_type": "markdown",
      "metadata": {
        "id": "NpyVmyRKN0jO",
        "colab_type": "text"
      },
      "source": [
        ""
      ]
    },
    {
      "cell_type": "code",
      "metadata": {
        "id": "j6msXpFiijwk",
        "colab_type": "code",
        "colab": {}
      },
      "source": [
        ""
      ],
      "execution_count": 0,
      "outputs": []
    }
  ]
}